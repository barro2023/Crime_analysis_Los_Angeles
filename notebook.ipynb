{
 "cells": [
  {
   "cell_type": "markdown",
   "id": "31ab2131-3049-4d8d-b9dc-d195f72af27a",
   "metadata": {},
   "source": [
    "![Los Angeles skyline](la_skyline.jpg)\n",
    "\n",
    "Los Angeles, California 😎. The City of Angels. Tinseltown. The Entertainment Capital of the World! \n",
    "\n",
    "Known for its warm weather, palm trees, sprawling coastline, and Hollywood, along with producing some of the most iconic films and songs. However, as with any highly populated city, it isn't always glamorous and there can be a large volume of crime. That's where you can help!\n",
    "\n",
    "You have been asked to support the Los Angeles Police Department (LAPD) by analyzing crime data to identify patterns in criminal behavior. They plan to use your insights to allocate resources effectively to tackle various crimes in different areas.\n",
    "\n",
    "## The Data\n",
    "\n",
    "They have provided you with a single dataset to use. A summary and preview are provided below.\n",
    "\n",
    "It is a modified version of the original data, which is publicly available from Los Angeles Open Data.\n",
    "\n",
    "# crimes.csv\n",
    "\n",
    "| Column     | Description              |\n",
    "|------------|--------------------------|\n",
    "| `'DR_NO'` | Division of Records Number: Official file number made up of a 2-digit year, area ID, and 5 digits. |\n",
    "| `'Date Rptd'` | Date reported - MM/DD/YYYY. |\n",
    "| `'DATE OCC'` | Date of occurrence - MM/DD/YYYY. |\n",
    "| `'TIME OCC'` | In 24-hour military time. |\n",
    "| `'AREA NAME'` | The 21 Geographic Areas or Patrol Divisions are also given a name designation that references a landmark or the surrounding community that it is responsible for. For example, the 77th Street Division is located at the intersection of South Broadway and 77th Street, serving neighborhoods in South Los Angeles. |\n",
    "| `'Crm Cd Desc'` | Indicates the crime committed. |\n",
    "| `'Vict Age'` | Victim's age in years. |\n",
    "| `'Vict Sex'` | Victim's sex: `F`: Female, `M`: Male, `X`: Unknown. |\n",
    "| `'Vict Descent'` | Victim's descent:<ul><li>`A` - Other Asian</li><li>`B` - Black</li><li>`C` - Chinese</li><li>`D` - Cambodian</li><li>`F` - Filipino</li><li>`G` - Guamanian</li><li>`H` - Hispanic/Latin/Mexican</li><li>`I` - American Indian/Alaskan Native</li><li>`J` - Japanese</li><li>`K` - Korean</li><li>`L` - Laotian</li><li>`O` - Other</li><li>`P` - Pacific Islander</li><li>`S` - Samoan</li><li>`U` - Hawaiian</li><li>`V` - Vietnamese</li><li>`W` - White</li><li>`X` - Unknown</li><li>`Z` - Asian Indian</li> |\n",
    "| `'Weapon Desc'` | Description of the weapon used (if applicable). |\n",
    "| `'Status Desc'` | Crime status. |\n",
    "| `'LOCATION'` | Street address of the crime. |"
   ]
  },
  {
   "cell_type": "code",
   "execution_count": 38,
   "id": "ca8abb58-0f13-4a26-afa8-101c98d6ff08",
   "metadata": {
    "executionCancelledAt": null,
    "executionTime": 10,
    "lastExecutedAt": 1743250539501,
    "lastExecutedByKernel": "aadced37-a020-4a6c-b43c-7d813216aa09",
    "lastScheduledRunId": null,
    "lastSuccessfullyExecutedCode": ""
   },
   "outputs": [],
   "source": []
  },
  {
   "cell_type": "code",
   "execution_count": 1,
   "id": "7c6c3c36-5c8b-4cce-8681-95292b8f0861",
   "metadata": {
    "executionCancelledAt": null,
    "executionTime": 320,
    "lastExecutedAt": 1743250539821,
    "lastExecutedByKernel": "aadced37-a020-4a6c-b43c-7d813216aa09",
    "lastScheduledRunId": null,
    "lastSuccessfullyExecutedCode": "# Re-run this cell\n# Import required libraries\nimport pandas as pd\nimport numpy as np\nimport matplotlib.pyplot as plt\nimport seaborn as sns\ncrimes = pd.read_csv(\"crimes.csv\", dtype={\"TIME OCC\": str})\ncrimes.head()",
    "outputsMetadata": {
     "0": {
      "height": 550,
      "tableState": {
       "customFilter": {
        "const": {
         "type": "boolean",
         "valid": true,
         "value": true
        },
        "id": "7dc55f8f-e3b7-4277-b3e6-238c4738929c",
        "nodeType": "const"
       },
       "quickFilterText": ""
      },
      "type": "dataFrame"
     }
    }
   },
   "outputs": [
    {
     "data": {
      "text/html": [
       "<div>\n",
       "<style scoped>\n",
       "    .dataframe tbody tr th:only-of-type {\n",
       "        vertical-align: middle;\n",
       "    }\n",
       "\n",
       "    .dataframe tbody tr th {\n",
       "        vertical-align: top;\n",
       "    }\n",
       "\n",
       "    .dataframe thead th {\n",
       "        text-align: right;\n",
       "    }\n",
       "</style>\n",
       "<table border=\"1\" class=\"dataframe\">\n",
       "  <thead>\n",
       "    <tr style=\"text-align: right;\">\n",
       "      <th></th>\n",
       "      <th>DR_NO</th>\n",
       "      <th>Date Rptd</th>\n",
       "      <th>DATE OCC</th>\n",
       "      <th>TIME OCC</th>\n",
       "      <th>AREA NAME</th>\n",
       "      <th>Crm Cd Desc</th>\n",
       "      <th>Vict Age</th>\n",
       "      <th>Vict Sex</th>\n",
       "      <th>Vict Descent</th>\n",
       "      <th>Weapon Desc</th>\n",
       "      <th>Status Desc</th>\n",
       "      <th>LOCATION</th>\n",
       "    </tr>\n",
       "  </thead>\n",
       "  <tbody>\n",
       "    <tr>\n",
       "      <th>0</th>\n",
       "      <td>220314085</td>\n",
       "      <td>2022-07-22</td>\n",
       "      <td>2020-05-12</td>\n",
       "      <td>1110</td>\n",
       "      <td>Southwest</td>\n",
       "      <td>THEFT OF IDENTITY</td>\n",
       "      <td>27</td>\n",
       "      <td>F</td>\n",
       "      <td>B</td>\n",
       "      <td>NaN</td>\n",
       "      <td>Invest Cont</td>\n",
       "      <td>2500 S  SYCAMORE                     AV</td>\n",
       "    </tr>\n",
       "    <tr>\n",
       "      <th>1</th>\n",
       "      <td>222013040</td>\n",
       "      <td>2022-08-06</td>\n",
       "      <td>2020-06-04</td>\n",
       "      <td>1620</td>\n",
       "      <td>Olympic</td>\n",
       "      <td>THEFT OF IDENTITY</td>\n",
       "      <td>60</td>\n",
       "      <td>M</td>\n",
       "      <td>H</td>\n",
       "      <td>NaN</td>\n",
       "      <td>Invest Cont</td>\n",
       "      <td>3300    SAN MARINO                   ST</td>\n",
       "    </tr>\n",
       "    <tr>\n",
       "      <th>2</th>\n",
       "      <td>220614831</td>\n",
       "      <td>2022-08-18</td>\n",
       "      <td>2020-08-17</td>\n",
       "      <td>1200</td>\n",
       "      <td>Hollywood</td>\n",
       "      <td>THEFT OF IDENTITY</td>\n",
       "      <td>28</td>\n",
       "      <td>M</td>\n",
       "      <td>H</td>\n",
       "      <td>NaN</td>\n",
       "      <td>Invest Cont</td>\n",
       "      <td>1900    TRANSIENT</td>\n",
       "    </tr>\n",
       "    <tr>\n",
       "      <th>3</th>\n",
       "      <td>231207725</td>\n",
       "      <td>2023-02-27</td>\n",
       "      <td>2020-01-27</td>\n",
       "      <td>0635</td>\n",
       "      <td>77th Street</td>\n",
       "      <td>THEFT OF IDENTITY</td>\n",
       "      <td>37</td>\n",
       "      <td>M</td>\n",
       "      <td>H</td>\n",
       "      <td>NaN</td>\n",
       "      <td>Invest Cont</td>\n",
       "      <td>6200    4TH                          AV</td>\n",
       "    </tr>\n",
       "    <tr>\n",
       "      <th>4</th>\n",
       "      <td>220213256</td>\n",
       "      <td>2022-07-14</td>\n",
       "      <td>2020-07-14</td>\n",
       "      <td>0900</td>\n",
       "      <td>Rampart</td>\n",
       "      <td>THEFT OF IDENTITY</td>\n",
       "      <td>79</td>\n",
       "      <td>M</td>\n",
       "      <td>B</td>\n",
       "      <td>NaN</td>\n",
       "      <td>Invest Cont</td>\n",
       "      <td>1200 W  7TH                          ST</td>\n",
       "    </tr>\n",
       "  </tbody>\n",
       "</table>\n",
       "</div>"
      ],
      "text/plain": [
       "       DR_NO   Date Rptd    DATE OCC TIME OCC    AREA NAME        Crm Cd Desc  \\\n",
       "0  220314085  2022-07-22  2020-05-12     1110    Southwest  THEFT OF IDENTITY   \n",
       "1  222013040  2022-08-06  2020-06-04     1620      Olympic  THEFT OF IDENTITY   \n",
       "2  220614831  2022-08-18  2020-08-17     1200    Hollywood  THEFT OF IDENTITY   \n",
       "3  231207725  2023-02-27  2020-01-27     0635  77th Street  THEFT OF IDENTITY   \n",
       "4  220213256  2022-07-14  2020-07-14     0900      Rampart  THEFT OF IDENTITY   \n",
       "\n",
       "   Vict Age Vict Sex Vict Descent Weapon Desc  Status Desc  \\\n",
       "0        27        F            B         NaN  Invest Cont   \n",
       "1        60        M            H         NaN  Invest Cont   \n",
       "2        28        M            H         NaN  Invest Cont   \n",
       "3        37        M            H         NaN  Invest Cont   \n",
       "4        79        M            B         NaN  Invest Cont   \n",
       "\n",
       "                                  LOCATION  \n",
       "0  2500 S  SYCAMORE                     AV  \n",
       "1  3300    SAN MARINO                   ST  \n",
       "2                        1900    TRANSIENT  \n",
       "3  6200    4TH                          AV  \n",
       "4  1200 W  7TH                          ST  "
      ]
     },
     "execution_count": 1,
     "metadata": {},
     "output_type": "execute_result"
    }
   ],
   "source": [
    "# Re-run this cell\n",
    "# Import required libraries\n",
    "import pandas as pd\n",
    "import numpy as np\n",
    "import matplotlib.pyplot as plt\n",
    "import seaborn as sns\n",
    "crimes = pd.read_csv(\"crimes.csv\", dtype={\"TIME OCC\": str})\n",
    "crimes.head()"
   ]
  },
  {
   "cell_type": "code",
   "execution_count": 2,
   "id": "533ccf0a-87f7-465e-972d-27e056e3a2e3",
   "metadata": {
    "executionCancelledAt": null,
    "executionTime": 68,
    "lastExecutedAt": 1743250539889,
    "lastExecutedByKernel": "aadced37-a020-4a6c-b43c-7d813216aa09",
    "lastScheduledRunId": null,
    "lastSuccessfullyExecutedCode": "# Tails\ncrimes.tail()",
    "outputsMetadata": {
     "0": {
      "height": 264,
      "tableState": {
       "quickFilterText": ""
      },
      "type": "dataFrame"
     }
    }
   },
   "outputs": [
    {
     "data": {
      "text/html": [
       "<div>\n",
       "<style scoped>\n",
       "    .dataframe tbody tr th:only-of-type {\n",
       "        vertical-align: middle;\n",
       "    }\n",
       "\n",
       "    .dataframe tbody tr th {\n",
       "        vertical-align: top;\n",
       "    }\n",
       "\n",
       "    .dataframe thead th {\n",
       "        text-align: right;\n",
       "    }\n",
       "</style>\n",
       "<table border=\"1\" class=\"dataframe\">\n",
       "  <thead>\n",
       "    <tr style=\"text-align: right;\">\n",
       "      <th></th>\n",
       "      <th>DR_NO</th>\n",
       "      <th>Date Rptd</th>\n",
       "      <th>DATE OCC</th>\n",
       "      <th>TIME OCC</th>\n",
       "      <th>AREA NAME</th>\n",
       "      <th>Crm Cd Desc</th>\n",
       "      <th>Vict Age</th>\n",
       "      <th>Vict Sex</th>\n",
       "      <th>Vict Descent</th>\n",
       "      <th>Weapon Desc</th>\n",
       "      <th>Status Desc</th>\n",
       "      <th>LOCATION</th>\n",
       "    </tr>\n",
       "  </thead>\n",
       "  <tbody>\n",
       "    <tr>\n",
       "      <th>185710</th>\n",
       "      <td>231510379</td>\n",
       "      <td>2023-05-29</td>\n",
       "      <td>2023-05-25</td>\n",
       "      <td>1100</td>\n",
       "      <td>N Hollywood</td>\n",
       "      <td>BUNCO, GRAND THEFT</td>\n",
       "      <td>25</td>\n",
       "      <td>M</td>\n",
       "      <td>W</td>\n",
       "      <td>NaN</td>\n",
       "      <td>Invest Cont</td>\n",
       "      <td>5300    DENNY                        AV</td>\n",
       "    </tr>\n",
       "    <tr>\n",
       "      <th>185711</th>\n",
       "      <td>231604807</td>\n",
       "      <td>2023-01-27</td>\n",
       "      <td>2023-01-26</td>\n",
       "      <td>1800</td>\n",
       "      <td>Foothill</td>\n",
       "      <td>VANDALISM - FELONY ($400 &amp; OVER, ALL CHURCH VA...</td>\n",
       "      <td>23</td>\n",
       "      <td>M</td>\n",
       "      <td>H</td>\n",
       "      <td>NaN</td>\n",
       "      <td>Invest Cont</td>\n",
       "      <td>12500    BRANFORD                     ST</td>\n",
       "    </tr>\n",
       "    <tr>\n",
       "      <th>185712</th>\n",
       "      <td>231606525</td>\n",
       "      <td>2023-03-22</td>\n",
       "      <td>2023-03-22</td>\n",
       "      <td>1000</td>\n",
       "      <td>Foothill</td>\n",
       "      <td>ASSAULT WITH DEADLY WEAPON, AGGRAVATED ASSAULT</td>\n",
       "      <td>25</td>\n",
       "      <td>F</td>\n",
       "      <td>H</td>\n",
       "      <td>STRONG-ARM (HANDS, FIST, FEET OR BODILY FORCE)</td>\n",
       "      <td>Invest Cont</td>\n",
       "      <td>12800    FILMORE                      ST</td>\n",
       "    </tr>\n",
       "    <tr>\n",
       "      <th>185713</th>\n",
       "      <td>231210064</td>\n",
       "      <td>2023-04-12</td>\n",
       "      <td>2023-04-12</td>\n",
       "      <td>1630</td>\n",
       "      <td>77th Street</td>\n",
       "      <td>ASSAULT WITH DEADLY WEAPON, AGGRAVATED ASSAULT</td>\n",
       "      <td>29</td>\n",
       "      <td>M</td>\n",
       "      <td>B</td>\n",
       "      <td>UNKNOWN WEAPON/OTHER WEAPON</td>\n",
       "      <td>Invest Cont</td>\n",
       "      <td>6100 S  VERMONT                      AV</td>\n",
       "    </tr>\n",
       "    <tr>\n",
       "      <th>185714</th>\n",
       "      <td>230906458</td>\n",
       "      <td>2023-03-05</td>\n",
       "      <td>2023-03-05</td>\n",
       "      <td>0900</td>\n",
       "      <td>Van Nuys</td>\n",
       "      <td>VANDALISM - MISDEAMEANOR ($399 OR UNDER)</td>\n",
       "      <td>53</td>\n",
       "      <td>F</td>\n",
       "      <td>H</td>\n",
       "      <td>NaN</td>\n",
       "      <td>Invest Cont</td>\n",
       "      <td>14500    HARTLAND                     ST</td>\n",
       "    </tr>\n",
       "  </tbody>\n",
       "</table>\n",
       "</div>"
      ],
      "text/plain": [
       "            DR_NO   Date Rptd    DATE OCC TIME OCC    AREA NAME  \\\n",
       "185710  231510379  2023-05-29  2023-05-25     1100  N Hollywood   \n",
       "185711  231604807  2023-01-27  2023-01-26     1800     Foothill   \n",
       "185712  231606525  2023-03-22  2023-03-22     1000     Foothill   \n",
       "185713  231210064  2023-04-12  2023-04-12     1630  77th Street   \n",
       "185714  230906458  2023-03-05  2023-03-05     0900     Van Nuys   \n",
       "\n",
       "                                              Crm Cd Desc  Vict Age Vict Sex  \\\n",
       "185710                                 BUNCO, GRAND THEFT        25        M   \n",
       "185711  VANDALISM - FELONY ($400 & OVER, ALL CHURCH VA...        23        M   \n",
       "185712     ASSAULT WITH DEADLY WEAPON, AGGRAVATED ASSAULT        25        F   \n",
       "185713     ASSAULT WITH DEADLY WEAPON, AGGRAVATED ASSAULT        29        M   \n",
       "185714           VANDALISM - MISDEAMEANOR ($399 OR UNDER)        53        F   \n",
       "\n",
       "       Vict Descent                                     Weapon Desc  \\\n",
       "185710            W                                             NaN   \n",
       "185711            H                                             NaN   \n",
       "185712            H  STRONG-ARM (HANDS, FIST, FEET OR BODILY FORCE)   \n",
       "185713            B                     UNKNOWN WEAPON/OTHER WEAPON   \n",
       "185714            H                                             NaN   \n",
       "\n",
       "        Status Desc                                  LOCATION  \n",
       "185710  Invest Cont   5300    DENNY                        AV  \n",
       "185711  Invest Cont  12500    BRANFORD                     ST  \n",
       "185712  Invest Cont  12800    FILMORE                      ST  \n",
       "185713  Invest Cont   6100 S  VERMONT                      AV  \n",
       "185714  Invest Cont  14500    HARTLAND                     ST  "
      ]
     },
     "execution_count": 2,
     "metadata": {},
     "output_type": "execute_result"
    }
   ],
   "source": [
    "# Tails\n",
    "crimes.tail()"
   ]
  },
  {
   "cell_type": "code",
   "execution_count": 3,
   "id": "6b2d284f-f255-433b-87f9-4d9c6bce33bc",
   "metadata": {
    "executionCancelledAt": null,
    "executionTime": 228,
    "lastExecutedAt": 1743250540117,
    "lastExecutedByKernel": "aadced37-a020-4a6c-b43c-7d813216aa09",
    "lastScheduledRunId": null,
    "lastSuccessfullyExecutedCode": "# Info\ncrimes.info()",
    "outputsMetadata": {
     "0": {
      "height": 425,
      "type": "stream"
     }
    }
   },
   "outputs": [
    {
     "name": "stdout",
     "output_type": "stream",
     "text": [
      "<class 'pandas.core.frame.DataFrame'>\n",
      "RangeIndex: 185715 entries, 0 to 185714\n",
      "Data columns (total 12 columns):\n",
      " #   Column        Non-Null Count   Dtype \n",
      "---  ------        --------------   ----- \n",
      " 0   DR_NO         185715 non-null  int64 \n",
      " 1   Date Rptd     185715 non-null  object\n",
      " 2   DATE OCC      185715 non-null  object\n",
      " 3   TIME OCC      185715 non-null  object\n",
      " 4   AREA NAME     185715 non-null  object\n",
      " 5   Crm Cd Desc   185715 non-null  object\n",
      " 6   Vict Age      185715 non-null  int64 \n",
      " 7   Vict Sex      185704 non-null  object\n",
      " 8   Vict Descent  185705 non-null  object\n",
      " 9   Weapon Desc   73502 non-null   object\n",
      " 10  Status Desc   185715 non-null  object\n",
      " 11  LOCATION      185715 non-null  object\n",
      "dtypes: int64(2), object(10)\n",
      "memory usage: 17.0+ MB\n"
     ]
    }
   ],
   "source": [
    "# Info\n",
    "crimes.info()"
   ]
  },
  {
   "cell_type": "code",
   "execution_count": 4,
   "id": "3e877ed5-18e7-4828-b906-3c1048094d15",
   "metadata": {
    "executionCancelledAt": null,
    "executionTime": 52,
    "lastExecutedAt": 1743250540169,
    "lastExecutedByKernel": "aadced37-a020-4a6c-b43c-7d813216aa09",
    "lastScheduledRunId": null,
    "lastSuccessfullyExecutedCode": "# Statistics\ncrimes.describe()",
    "outputsMetadata": {
     "0": {
      "height": 302,
      "tableState": {
       "quickFilterText": ""
      },
      "type": "dataFrame"
     }
    }
   },
   "outputs": [
    {
     "data": {
      "text/html": [
       "<div>\n",
       "<style scoped>\n",
       "    .dataframe tbody tr th:only-of-type {\n",
       "        vertical-align: middle;\n",
       "    }\n",
       "\n",
       "    .dataframe tbody tr th {\n",
       "        vertical-align: top;\n",
       "    }\n",
       "\n",
       "    .dataframe thead th {\n",
       "        text-align: right;\n",
       "    }\n",
       "</style>\n",
       "<table border=\"1\" class=\"dataframe\">\n",
       "  <thead>\n",
       "    <tr style=\"text-align: right;\">\n",
       "      <th></th>\n",
       "      <th>DR_NO</th>\n",
       "      <th>Vict Age</th>\n",
       "    </tr>\n",
       "  </thead>\n",
       "  <tbody>\n",
       "    <tr>\n",
       "      <th>count</th>\n",
       "      <td>1.857150e+05</td>\n",
       "      <td>185715.000000</td>\n",
       "    </tr>\n",
       "    <tr>\n",
       "      <th>mean</th>\n",
       "      <td>2.255781e+08</td>\n",
       "      <td>39.999257</td>\n",
       "    </tr>\n",
       "    <tr>\n",
       "      <th>std</th>\n",
       "      <td>5.017438e+06</td>\n",
       "      <td>15.450227</td>\n",
       "    </tr>\n",
       "    <tr>\n",
       "      <th>min</th>\n",
       "      <td>2.009072e+08</td>\n",
       "      <td>2.000000</td>\n",
       "    </tr>\n",
       "    <tr>\n",
       "      <th>25%</th>\n",
       "      <td>2.210108e+08</td>\n",
       "      <td>28.000000</td>\n",
       "    </tr>\n",
       "    <tr>\n",
       "      <th>50%</th>\n",
       "      <td>2.220114e+08</td>\n",
       "      <td>37.000000</td>\n",
       "    </tr>\n",
       "    <tr>\n",
       "      <th>75%</th>\n",
       "      <td>2.310044e+08</td>\n",
       "      <td>50.000000</td>\n",
       "    </tr>\n",
       "    <tr>\n",
       "      <th>max</th>\n",
       "      <td>2.399097e+08</td>\n",
       "      <td>99.000000</td>\n",
       "    </tr>\n",
       "  </tbody>\n",
       "</table>\n",
       "</div>"
      ],
      "text/plain": [
       "              DR_NO       Vict Age\n",
       "count  1.857150e+05  185715.000000\n",
       "mean   2.255781e+08      39.999257\n",
       "std    5.017438e+06      15.450227\n",
       "min    2.009072e+08       2.000000\n",
       "25%    2.210108e+08      28.000000\n",
       "50%    2.220114e+08      37.000000\n",
       "75%    2.310044e+08      50.000000\n",
       "max    2.399097e+08      99.000000"
      ]
     },
     "execution_count": 4,
     "metadata": {},
     "output_type": "execute_result"
    }
   ],
   "source": [
    "# Statistics\n",
    "crimes.describe()"
   ]
  },
  {
   "cell_type": "code",
   "execution_count": 5,
   "id": "7bf9a600-66ec-4d39-92e1-17837ae8121c",
   "metadata": {
    "executionCancelledAt": null,
    "executionTime": 269,
    "lastExecutedAt": 1743250540438,
    "lastExecutedByKernel": "aadced37-a020-4a6c-b43c-7d813216aa09",
    "lastScheduledRunId": null,
    "lastSuccessfullyExecutedCode": "#Missing values\ncrimes.isna().sum()",
    "outputsMetadata": {
     "0": {
      "height": 550,
      "tableState": {
       "quickFilterText": ""
      },
      "type": "dataFrame"
     }
    }
   },
   "outputs": [
    {
     "data": {
      "text/plain": [
       "DR_NO                0\n",
       "Date Rptd            0\n",
       "DATE OCC             0\n",
       "TIME OCC             0\n",
       "AREA NAME            0\n",
       "Crm Cd Desc          0\n",
       "Vict Age             0\n",
       "Vict Sex            11\n",
       "Vict Descent        10\n",
       "Weapon Desc     112213\n",
       "Status Desc          0\n",
       "LOCATION             0\n",
       "dtype: int64"
      ]
     },
     "execution_count": 5,
     "metadata": {},
     "output_type": "execute_result"
    }
   ],
   "source": [
    "#Missing values\n",
    "crimes.isna().sum()"
   ]
  },
  {
   "cell_type": "code",
   "execution_count": 6,
   "id": "320b7e99-a09c-423a-8098-51bd75211849",
   "metadata": {
    "executionCancelledAt": null,
    "executionTime": 56,
    "lastExecutedAt": 1743250540494,
    "lastExecutedByKernel": "aadced37-a020-4a6c-b43c-7d813216aa09",
    "lastScheduledRunId": null,
    "lastSuccessfullyExecutedCode": "#Missing_values_proportion\nmissing_values_prop = len(crimes) * 0.05\nprint(missing_values_prop)",
    "outputsMetadata": {
     "0": {
      "height": 38,
      "type": "stream"
     }
    }
   },
   "outputs": [
    {
     "name": "stdout",
     "output_type": "stream",
     "text": [
      "9285.75\n"
     ]
    }
   ],
   "source": [
    "#Missing_values_proportion\n",
    "missing_values_prop = len(crimes) * 0.05\n",
    "print(missing_values_prop)"
   ]
  },
  {
   "cell_type": "code",
   "execution_count": 7,
   "id": "917e8e84-6aea-4059-8629-12c6d933afe8",
   "metadata": {
    "executionCancelledAt": null,
    "executionTime": 318,
    "lastExecutedAt": 1743250540812,
    "lastExecutedByKernel": "aadced37-a020-4a6c-b43c-7d813216aa09",
    "lastScheduledRunId": null,
    "lastSuccessfullyExecutedCode": "#Handling missing value\ndf = crimes.dropna()\nprint(df.isna().sum())",
    "outputsMetadata": {
     "0": {
      "height": 290,
      "type": "stream"
     }
    }
   },
   "outputs": [
    {
     "name": "stdout",
     "output_type": "stream",
     "text": [
      "DR_NO           0\n",
      "Date Rptd       0\n",
      "DATE OCC        0\n",
      "TIME OCC        0\n",
      "AREA NAME       0\n",
      "Crm Cd Desc     0\n",
      "Vict Age        0\n",
      "Vict Sex        0\n",
      "Vict Descent    0\n",
      "Weapon Desc     0\n",
      "Status Desc     0\n",
      "LOCATION        0\n",
      "dtype: int64\n"
     ]
    }
   ],
   "source": [
    "#Handling missing value\n",
    "df = crimes.dropna()\n",
    "print(df.isna().sum())"
   ]
  },
  {
   "cell_type": "code",
   "execution_count": 8,
   "id": "f1c8bbdb-1ee4-48b5-b409-4a532d9417f8",
   "metadata": {
    "executionCancelledAt": null,
    "executionTime": 435,
    "lastExecutedAt": 1743250541247,
    "lastExecutedByKernel": "aadced37-a020-4a6c-b43c-7d813216aa09",
    "lastScheduledRunId": null,
    "lastSuccessfullyExecutedCode": "#Question 1 :HOW OFTEN CRIMES IS THE HIGH MOST\n\n#Extract hours\ndf[\"HOUR OCC\"] = df[\"TIME OCC\"].str[:2].astype(int)\nprint(df.head())\n\n#Plot frenquences\nsns.countplot(x=\"HOUR OCC\", data =df)\nplt.show()\n\n#Saving hour as variable\npeak_crimee_hour = 20",
    "outputsMetadata": {
     "0": {
      "height": 193,
      "type": "stream"
     }
    }
   },
   "outputs": [
    {
     "name": "stderr",
     "output_type": "stream",
     "text": [
      "/tmp/ipykernel_12006/2084504345.py:4: SettingWithCopyWarning: \n",
      "A value is trying to be set on a copy of a slice from a DataFrame.\n",
      "Try using .loc[row_indexer,col_indexer] = value instead\n",
      "\n",
      "See the caveats in the documentation: https://pandas.pydata.org/pandas-docs/stable/user_guide/indexing.html#returning-a-view-versus-a-copy\n",
      "  df[\"HOUR OCC\"] = df[\"TIME OCC\"].str[:2].astype(int)\n"
     ]
    },
    {
     "name": "stdout",
     "output_type": "stream",
     "text": [
      "        DR_NO   Date Rptd    DATE OCC TIME OCC    AREA NAME  \\\n",
      "9   231506571  2023-03-03  2020-07-15     1700  N Hollywood   \n",
      "20  221216517  2022-07-14  2020-01-01     1200  77th Street   \n",
      "26  222017787  2022-11-30  2020-01-01     1200      Olympic   \n",
      "35  220313293  2022-07-06  2020-06-30     1400    Southwest   \n",
      "44  221213066  2022-06-03  2020-12-01     1400  77th Street   \n",
      "\n",
      "                                  Crm Cd Desc  Vict Age Vict Sex Vict Descent  \\\n",
      "9                   OTHER MISCELLANEOUS CRIME        21        F            W   \n",
      "20  HUMAN TRAFFICKING - INVOLUNTARY SERVITUDE        22        F            B   \n",
      "26                            ORAL COPULATION        12        F            H   \n",
      "35          INTIMATE PARTNER - SIMPLE ASSAULT        25        F            B   \n",
      "44                                TRESPASSING        34        F            B   \n",
      "\n",
      "                                       Weapon Desc  Status Desc  \\\n",
      "9                                    VERBAL THREAT  Invest Cont   \n",
      "20  STRONG-ARM (HANDS, FIST, FEET OR BODILY FORCE)  Invest Cont   \n",
      "26  STRONG-ARM (HANDS, FIST, FEET OR BODILY FORCE)  Invest Cont   \n",
      "35  STRONG-ARM (HANDS, FIST, FEET OR BODILY FORCE)  Invest Cont   \n",
      "44                               PHYSICAL PRESENCE  Invest Cont   \n",
      "\n",
      "                                    LOCATION  HOUR OCC  \n",
      "9   12300    EMELITA                      ST        17  \n",
      "20                                  FIGUEROA        12  \n",
      "26   1100    ARAPAHOE                     ST        12  \n",
      "35           VERMONT                      AV        14  \n",
      "44   1100 W  49TH                         ST        14  \n"
     ]
    },
    {
     "data": {
      "image/png": "[encoded data removed]",
      "text/plain": [
       "<Figure size 640x480 with 1 Axes>"
      ]
     },
     "metadata": {},
     "output_type": "display_data"
    }
   ],
   "source": [
    "#Question 1 :HOW OFTEN CRIMES IS THE HIGH MOST\n",
    "\n",
    "#Extract hours\n",
    "df[\"HOUR OCC\"] = df[\"TIME OCC\"].str[:2].astype(int)\n",
    "print(df.head())\n",
    "\n",
    "#Plot frenquences\n",
    "sns.countplot(x=\"HOUR OCC\", data =df)\n",
    "plt.show()\n",
    "\n",
    "#Saving hour as variable\n",
    "peak_crimee_hour = 20"
   ]
  },
  {
   "cell_type": "code",
   "execution_count": 9,
   "id": "96a71a12-d098-48f9-9e94-be7267b44e9a",
   "metadata": {
    "executionCancelledAt": null,
    "executionTime": 54,
    "lastExecutedAt": 1743250541301,
    "lastExecutedByKernel": "aadced37-a020-4a6c-b43c-7d813216aa09",
    "lastScheduledRunId": null,
    "lastSuccessfullyExecutedCode": "# Question 2 :AREA PRESENTED HOW OFTEN CRIMES NIGHT\n\n# Convert \"TIME OCC\" to integer\ndf[\"TIME OCC\"] = df[\"TIME OCC\"].astype(int)\n\n# Extract hour only\ndf[\"HOUR OCC\"] = df[\"TIME OCC\"] // 100\n\n# Subset for hours night\ndata = df[df[\"HOUR OCC\"].isin([22, 23, 0 ,1 ,2 ,3])]\n\n# Count area by criminality\ncrime_counts = data.groupby(\"AREA NAME\")[\"HOUR OCC\"].count().reset_index()\n\n# Sorted\ncrime_counts = crime_counts.sort_values(\"HOUR OCC\", ascending=False)\n\n# Extract area with crime high most\npeak_night_crime_location = crime_counts.iloc[0][\"AREA NAME\"]\n\n# Print\nprint(\"PEAK_NIGHT_CRIME_LOCATION : \", peak_night_crime_location)",
    "outputsMetadata": {
     "0": {
      "height": 39,
      "type": "stream"
     }
    }
   },
   "outputs": [
    {
     "name": "stdout",
     "output_type": "stream",
     "text": [
      "PEAK_NIGHT_CRIME_LOCATION :  Central\n"
     ]
    },
    {
     "name": "stderr",
     "output_type": "stream",
     "text": [
      "/tmp/ipykernel_12006/345019873.py:4: SettingWithCopyWarning: \n",
      "A value is trying to be set on a copy of a slice from a DataFrame.\n",
      "Try using .loc[row_indexer,col_indexer] = value instead\n",
      "\n",
      "See the caveats in the documentation: https://pandas.pydata.org/pandas-docs/stable/user_guide/indexing.html#returning-a-view-versus-a-copy\n",
      "  df[\"TIME OCC\"] = df[\"TIME OCC\"].astype(int)\n",
      "/tmp/ipykernel_12006/345019873.py:7: SettingWithCopyWarning: \n",
      "A value is trying to be set on a copy of a slice from a DataFrame.\n",
      "Try using .loc[row_indexer,col_indexer] = value instead\n",
      "\n",
      "See the caveats in the documentation: https://pandas.pydata.org/pandas-docs/stable/user_guide/indexing.html#returning-a-view-versus-a-copy\n",
      "  df[\"HOUR OCC\"] = df[\"TIME OCC\"] // 100\n"
     ]
    }
   ],
   "source": [
    "# Question 2 :AREA PRESENTED HOW OFTEN CRIMES NIGHT\n",
    "\n",
    "# Convert \"TIME OCC\" to integer\n",
    "df[\"TIME OCC\"] = df[\"TIME OCC\"].astype(int)\n",
    "\n",
    "# Extract hour only\n",
    "df[\"HOUR OCC\"] = df[\"TIME OCC\"] // 100\n",
    "\n",
    "# Subset for hours night\n",
    "data = df[df[\"HOUR OCC\"].isin([22, 23, 0 ,1 ,2 ,3])]\n",
    "\n",
    "# Count area by criminality\n",
    "crime_counts = data.groupby(\"AREA NAME\")[\"HOUR OCC\"].count().reset_index()\n",
    "\n",
    "# Sorted\n",
    "crime_counts = crime_counts.sort_values(\"HOUR OCC\", ascending=False)\n",
    "\n",
    "# Extract area with crime high most\n",
    "peak_night_crime_location = crime_counts.iloc[0][\"AREA NAME\"]\n",
    "\n",
    "# Print\n",
    "print(\"PEAK_NIGHT_CRIME_LOCATION : \", peak_night_crime_location)"
   ]
  },
  {
   "cell_type": "code",
   "execution_count": 10,
   "id": "7b94ad9b-a192-4425-9b76-230947e2d3fa",
   "metadata": {
    "executionCancelledAt": null,
    "executionTime": 57,
    "lastExecutedAt": 1743250541358,
    "lastExecutedByKernel": "aadced37-a020-4a6c-b43c-7d813216aa09",
    "lastScheduledRunId": null,
    "lastSuccessfullyExecutedCode": "#Question 3 : IDENTIFY CRIMES COMMIT AGAINST VICTIMS AGE GROUP\n\n#Create bins and labels\nage_bins = [0, 17, 25, 34, 44, 54, 64, np.inf] # np.inf to include all superior values\n\n#Define labels\nage_labels = [\"0-17\", \"18-25\", \"26-34\", \"35-44\", \"45-54\", \"55-64\", \"65+\"]\n\n#Apply pd.cut function\ndf[\"Age Bracket\"] = pd.cut(df[\"Vict Age\"], bins=age_bins, labels=age_labels, right=True)\n\n#Print head\nprint(df[[\"Vict Age\", \"Age Bracket\"]].head())\n\n#Count Crime by Age Group victims\nvictim_ages = df[\"Age Bracket\"].value_counts()\nprint(\"\\nNumber of crimes commit against victims age group : \", victim_ages)",
    "outputsMetadata": {
     "0": {
      "height": 332,
      "type": "stream"
     }
    }
   },
   "outputs": [
    {
     "name": "stdout",
     "output_type": "stream",
     "text": [
      "    Vict Age Age Bracket\n",
      "9         21       18-25\n",
      "20        22       18-25\n",
      "26        12        0-17\n",
      "35        25       18-25\n",
      "44        34       26-34\n",
      "\n",
      "Number of crimes commit against victims age group :  Age Bracket\n",
      "26-34    18539\n",
      "35-44    16037\n",
      "18-25    12256\n",
      "45-54    10808\n",
      "55-64     7585\n",
      "65+       4503\n",
      "0-17      3770\n",
      "Name: count, dtype: int64\n"
     ]
    },
    {
     "name": "stderr",
     "output_type": "stream",
     "text": [
      "/tmp/ipykernel_12006/3532299811.py:10: SettingWithCopyWarning: \n",
      "A value is trying to be set on a copy of a slice from a DataFrame.\n",
      "Try using .loc[row_indexer,col_indexer] = value instead\n",
      "\n",
      "See the caveats in the documentation: https://pandas.pydata.org/pandas-docs/stable/user_guide/indexing.html#returning-a-view-versus-a-copy\n",
      "  df[\"Age Bracket\"] = pd.cut(df[\"Vict Age\"], bins=age_bins, labels=age_labels, right=True)\n"
     ]
    }
   ],
   "source": [
    "#Question 3 : IDENTIFY CRIMES COMMIT AGAINST VICTIMS AGE GROUP\n",
    "\n",
    "#Create bins and labels\n",
    "age_bins = [0, 17, 25, 34, 44, 54, 64, np.inf] # np.inf to include all superior values\n",
    "\n",
    "#Define labels\n",
    "age_labels = [\"0-17\", \"18-25\", \"26-34\", \"35-44\", \"45-54\", \"55-64\", \"65+\"]\n",
    "\n",
    "#Apply pd.cut function\n",
    "df[\"Age Bracket\"] = pd.cut(df[\"Vict Age\"], bins=age_bins, labels=age_labels, right=True)\n",
    "\n",
    "#Print head\n",
    "print(df[[\"Vict Age\", \"Age Bracket\"]].head())\n",
    "\n",
    "#Count Crime by Age Group victims\n",
    "victim_ages = df[\"Age Bracket\"].value_counts()\n",
    "print(\"\\nNumber of crimes commit against victims age group : \", victim_ages)"
   ]
  },
  {
   "cell_type": "code",
   "execution_count": null,
   "id": "9b97551a-586e-4e80-a136-7f16025a94e2",
   "metadata": {},
   "outputs": [],
   "source": []
  }
 ],
 "metadata": {
  "colab": {
   "name": "Welcome to DataCamp Workspaces.ipynb",
   "provenance": []
  },
  "kernelspec": {
   "display_name": "Python 3 (ipykernel)",
   "language": "python",
   "name": "python3"
  },
  "language_info": {
   "codemirror_mode": {
    "name": "ipython",
    "version": 3
   },
   "file_extension": ".py",
   "mimetype": "text/x-python",
   "name": "python",
   "nbconvert_exporter": "python",
   "pygments_lexer": "ipython3",
   "version": "3.10.12"
  }
 },
 "nbformat": 4,
 "nbformat_minor": 5
}
